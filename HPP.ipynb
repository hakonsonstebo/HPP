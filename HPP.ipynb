{
 "cells": [
  {
   "attachments": {},
   "cell_type": "markdown",
   "metadata": {},
   "source": [
    "**HPP - project**"
   ]
  },
  {
   "attachments": {},
   "cell_type": "markdown",
   "metadata": {},
   "source": [
    "Training Data"
   ]
  },
  {
   "cell_type": "code",
   "execution_count": null,
   "metadata": {},
   "outputs": [],
   "source": [
    "# modules we'll use\n",
    "import pandas as pd\n",
    "import numpy as np\n",
    "import matplotlib.pyplot as plt\n",
    "%matplotlib inline\n",
    "import seaborn as sns\n",
    "import random\n",
    "\n",
    "# read in all our data\n",
    "HPP_data = pd.read_csv(\"train.csv\")\n",
    "\n",
    "# set seed for reproducibility\n",
    "np.random.seed(0)\n",
    "\n",
    "#show first five rows of data\n",
    "HPP_data.head()\n",
    "\n",
    "HPP_data\n"
   ]
  },
  {
   "cell_type": "code",
   "execution_count": null,
   "metadata": {},
   "outputs": [],
   "source": [
    "#get the number of missing data points per column\n",
    "missing_values_count = HPP_data.isnull().sum()\n",
    "\n",
    "#columns with at least one missing data point\n",
    "# Assuming `missing_values_count` is a Series with column names as indices\n",
    "columns_with_missing_data = missing_values_count[missing_values_count > 0]\n",
    "print(columns_with_missing_data)\n",
    "\n",
    "# Iterate through columns with missing data and print column name and data type\n",
    "for column_name in columns_with_missing_data.index:\n",
    "    data_type = HPP_data[column_name].dtype\n",
    "    print(f\"{column_name}: {data_type}\")\n"
   ]
  },
  {
   "attachments": {},
   "cell_type": "markdown",
   "metadata": {},
   "source": [
    "Heatmap - find out which to features to drop"
   ]
  },
  {
   "attachments": {},
   "cell_type": "markdown",
   "metadata": {},
   "source": [
    "Filling in missing values"
   ]
  },
  {
   "cell_type": "code",
   "execution_count": null,
   "metadata": {},
   "outputs": [],
   "source": [
    "# Numeric\n",
    "HPP_data['LotFrontage'] = HPP_data['LotFrontage'].fillna(HPP_data['LotFrontage'].mean())\n",
    "HPP_data['MasVnrArea'] = HPP_data['MasVnrArea'].fillna(HPP_data['MasVnrArea'].mean())\n",
    "HPP_data['GarageYrBlt'] = HPP_data['GarageYrBlt'].fillna(-1)\n",
    "\n",
    "# Categorical\n",
    "HPP_data['Alley'] = HPP_data['Alley'].fillna('NoAlley')\n",
    "HPP_data['MasVnrType'] = HPP_data['MasVnrType'].fillna(HPP_data['MasVnrType'].mode()[random.randint(0, len(pd.Series(HPP_data['MasVnrType']).mode()) - 1)])\n",
    "HPP_data['BsmtQual'] = HPP_data['BsmtQual'].fillna('NoBasement')\n",
    "HPP_data['BsmtCond'] = HPP_data['BsmtCond'].fillna('NoBasement')\n",
    "HPP_data['BsmtExposure'] = HPP_data['BsmtExposure'].fillna('NoBasement')\n",
    "HPP_data['BsmtFinType1'] = HPP_data['BsmtFinType1'].fillna('NoBasement')\n",
    "HPP_data['BsmtFinType2'] = HPP_data['BsmtFinType2'].fillna('NoBasement')\n",
    "HPP_data['Electrical'] = HPP_data['Electrical'].fillna(HPP_data['Electrical'].mode()[random.randint(0, len(pd.Series(HPP_data['Electrical']).mode()) - 1)])\n",
    "HPP_data['FireplaceQu'] = HPP_data['FireplaceQu'].fillna('NoFireplace')\n",
    "HPP_data['GarageType'] = HPP_data['GarageType'].fillna('NoGarage')\n",
    "HPP_data['GarageFinish'] = HPP_data['GarageFinish'].fillna('NoGarage')\n",
    "HPP_data['GarageQual'] = HPP_data['GarageQual'].fillna('NoGarage')\n",
    "HPP_data['GarageCond'] = HPP_data['GarageCond'].fillna('NoGarage')\n",
    "HPP_data['PoolQC'] = HPP_data['PoolQC'].fillna('NoPool')\n",
    "HPP_data['Fence'] = HPP_data['Fence'].fillna('NoFence')\n",
    "HPP_data['MiscFeature'] = HPP_data['MiscFeature'].fillna('NoMiscFeature')"
   ]
  },
  {
   "attachments": {},
   "cell_type": "markdown",
   "metadata": {},
   "source": [
    "## Test data"
   ]
  },
  {
   "cell_type": "code",
   "execution_count": null,
   "metadata": {},
   "outputs": [],
   "source": []
  }
 ],
 "metadata": {
  "kernelspec": {
   "display_name": "Python 3",
   "language": "python",
   "name": "python3"
  },
  "language_info": {
   "codemirror_mode": {
    "name": "ipython",
    "version": 3
   },
   "file_extension": ".py",
   "mimetype": "text/x-python",
   "name": "python",
   "nbconvert_exporter": "python",
   "pygments_lexer": "ipython3",
   "version": "3.9.6"
  },
  "orig_nbformat": 4
 },
 "nbformat": 4,
 "nbformat_minor": 2
}
