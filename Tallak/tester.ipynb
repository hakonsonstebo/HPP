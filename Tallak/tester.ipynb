{
 "cells": [
  {
   "cell_type": "code",
   "execution_count": 62,
   "metadata": {},
   "outputs": [],
   "source": [
    "import pandas as pd\n",
    "import numpy as np\n",
    "\n",
    "df = pd.read_csv('../train.csv')\n",
    "\n",
    "np.random.seed(0)"
   ]
  },
  {
   "cell_type": "code",
   "execution_count": 63,
   "metadata": {},
   "outputs": [],
   "source": [
    "df[\"MasVnrArea\"] = df[\"MasVnrArea\"].fillna(df[\"MasVnrArea\"].mean())\n",
    "df[\"MasVnrType\"] = df[\"MasVnrType\"].fillna(df[\"MasVnrType\"].mode()[0])\n",
    "df[\"Electrical\"] = df[\"Electrical\"].fillna(df[\"Electrical\"].mode()[0])\n",
    "df[\"LotFrontage\"] = df[\"LotFrontage\"].fillna(0)\n",
    "df[\"Alley\"] = df[\"Alley\"].fillna(\"NoAlley\")\n",
    "df[\"BsmtQual\"] = df[\"BsmtQual\"].fillna(\"NoBasement\")\n",
    "df[\"BsmtCond\"] = df[\"BsmtCond\"].fillna(\"NoBasement\")\n",
    "df[\"BsmtExposure\"] = df[\"BsmtExposure\"].fillna(\"NoBasement\")\n",
    "df[\"BsmtFinType1\"] = df[\"BsmtFinType1\"].fillna(\"NoBasement\")\n",
    "df[\"BsmtFinType2\"] = df[\"BsmtFinType2\"].fillna(\"NoBasement\")\n",
    "df[\"FireplaceQu\"] = df[\"FireplaceQu\"].fillna(\"NoFireplace\")\n",
    "df[\"GarageType\"] = df[\"GarageType\"].fillna(\"NoGarage\")\n",
    "df[\"GarageYrBlt\"] = df[\"GarageYrBlt\"].fillna(-1)\n",
    "df[\"GarageFinish\"] = df[\"GarageFinish\"].fillna(\"NoGarage\")\n",
    "df[\"GarageQual\"] = df[\"GarageQual\"].fillna(\"NoGarage\")\n",
    "df[\"GarageCond\"] = df[\"GarageCond\"].fillna(\"NoGarage\")\n",
    "df[\"PoolQC\"] = df[\"PoolQC\"].fillna(\"NoPool\")\n",
    "df[\"Fence\"] = df[\"Fence\"].fillna(\"NoFence\")\n",
    "df[\"MiscFeature\"] = df[\"MiscFeature\"].fillna(\"NoMiscFeature\")"
   ]
  },
  {
   "cell_type": "code",
   "execution_count": 65,
   "metadata": {},
   "outputs": [
    {
     "data": {
      "text/plain": [
       "Index([], dtype='object')"
      ]
     },
     "execution_count": 65,
     "metadata": {},
     "output_type": "execute_result"
    }
   ],
   "source": [
    "missing_percentage = df.isna().mean() * 100\n",
    "\n",
    "# Select columns where the missing percentage is greater than 10\n",
    "columns_with_missing_values = missing_percentage[missing_percentage > 0].index\n",
    "columns_with_missing_values"
   ]
  },
  {
   "cell_type": "code",
   "execution_count": null,
   "metadata": {},
   "outputs": [],
   "source": []
  }
 ],
 "metadata": {
  "kernelspec": {
   "display_name": "Python 3",
   "language": "python",
   "name": "python3"
  },
  "language_info": {
   "codemirror_mode": {
    "name": "ipython",
    "version": 3
   },
   "file_extension": ".py",
   "mimetype": "text/x-python",
   "name": "python",
   "nbconvert_exporter": "python",
   "pygments_lexer": "ipython3",
   "version": "3.10.6"
  }
 },
 "nbformat": 4,
 "nbformat_minor": 2
}
