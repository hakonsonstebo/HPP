{
 "cells": [
  {
   "cell_type": "code",
   "execution_count": 1,
   "metadata": {},
   "outputs": [],
   "source": [
    "# modules we'll use\n",
    "import pandas as pd\n",
    "import numpy as np\n",
    "import random\n",
    "from sklearn.ensemble import RandomForestRegressor\n",
    "from sklearn.model_selection import cross_val_score\n",
    "from sklearn.preprocessing import LabelEncoder\n",
    "\n",
    "# read in all our data\n",
    "HPP_data = pd.read_csv(\"../train.csv\")\n",
    "\n",
    "# set seed for reproducibility\n",
    "np.random.seed(0)"
   ]
  },
  {
   "cell_type": "code",
   "execution_count": 2,
   "metadata": {},
   "outputs": [],
   "source": [
    "#Impute values which are missing\n",
    "HPP_data['LotFrontage'] = HPP_data['LotFrontage'].fillna('0')\n",
    "HPP_data['Alley'] = HPP_data['Alley'].fillna('NoAlley')\n",
    "HPP_data['BsmtQual'] = HPP_data['BsmtQual'].fillna('NoBasement')\n",
    "HPP_data['BsmtCond'] = HPP_data['BsmtCond'].fillna('NoBasement')\n",
    "HPP_data['BsmtExposure'] = HPP_data['BsmtExposure'].fillna('NoBasement')\n",
    "HPP_data['BsmtFinType1'] = HPP_data['BsmtFinType1'].fillna('NoBasement')\n",
    "HPP_data['BsmtFinType2'] = HPP_data['BsmtFinType2'].fillna('NoBasement')\n",
    "HPP_data['FireplaceQu'] = HPP_data['FireplaceQu'].fillna('NoFireplace')\n",
    "HPP_data['GarageType'] = HPP_data['GarageType'].fillna('NoGarage')\n",
    "HPP_data['GarageYrBlt'] = HPP_data['GarageYrBlt'].fillna(-1)\n",
    "HPP_data['GarageFinish'] = HPP_data['GarageFinish'].fillna('NoGarage')\n",
    "HPP_data['GarageQual'] = HPP_data['GarageQual'].fillna('NoGarage')\n",
    "HPP_data['GarageCond'] = HPP_data['GarageCond'].fillna('NoGarage')\n",
    "HPP_data['PoolQC'] = HPP_data['PoolQC'].fillna('NoPool')\n",
    "HPP_data['Fence'] = HPP_data['Fence'].fillna('NoFence')\n",
    "HPP_data['MiscFeature'] = HPP_data['MiscFeature'].fillna('NoMiscFeature')\n",
    "\n",
    "HPP_data['MasVnrArea'] = HPP_data['MasVnrArea'].fillna(HPP_data['MasVnrArea'].mean())\n",
    "HPP_data['MasVnrType'] = HPP_data['MasVnrType'].fillna(HPP_data['MasVnrType'].mode()[random.randint(0, len(pd.Series(HPP_data['MasVnrType']).mode()) - 1)])\n",
    "HPP_data['Electrical'] = HPP_data['Electrical'].fillna(HPP_data['Electrical'].mode()[random.randint(0, len(pd.Series(HPP_data['Electrical']).mode()) - 1)])\n",
    "\n"
   ]
  },
  {
   "cell_type": "code",
   "execution_count": 3,
   "metadata": {},
   "outputs": [],
   "source": [
    "# Identify categorical columns\n",
    "categorical_columns = HPP_data.select_dtypes(include=['object']).columns\n",
    "\n",
    "# Initialize LabelEncoder\n",
    "label_encoder = LabelEncoder()\n",
    "\n",
    "# Iterate through the categorical columns\n",
    "for column in categorical_columns:\n",
    "    # Convert all values to strings and then fit and transform the LabelEncoder\n",
    "    HPP_data[column] = label_encoder.fit_transform(HPP_data[column].astype(str))"
   ]
  },
  {
   "cell_type": "code",
   "execution_count": 4,
   "metadata": {},
   "outputs": [
    {
     "name": "stdout",
     "output_type": "stream",
     "text": [
      "MAE Baseline Score: 1.776e+04\n"
     ]
    }
   ],
   "source": [
    "#baseline score for features\n",
    "X = HPP_data.copy()\n",
    "y = X.pop(\"SalePrice\")\n",
    "\n",
    "# Train and score baseline model\n",
    "baseline = RandomForestRegressor(criterion=\"absolute_error\", random_state=0)\n",
    "baseline_score = cross_val_score(\n",
    "    baseline, X, y, cv=5, scoring=\"neg_mean_absolute_error\"\n",
    ")\n",
    "baseline_score = -1 * baseline_score.mean()\n",
    "\n",
    "print(f\"MAE Baseline Score: {baseline_score:.4}\")"
   ]
  },
  {
   "cell_type": "code",
   "execution_count": 5,
   "metadata": {},
   "outputs": [
    {
     "ename": "UFuncTypeError",
     "evalue": "ufunc 'add' did not contain a loop with signature matching types (dtype('int64'), dtype('<U10')) -> None",
     "output_type": "error",
     "traceback": [
      "\u001b[0;31m---------------------------------------------------------------------------\u001b[0m",
      "\u001b[0;31mUFuncTypeError\u001b[0m                            Traceback (most recent call last)",
      "\u001b[1;32m/Users/frederickpretlove/code/skole/indøk - 5sem/DM&DW/HPP competition/HPP/frederickPlay/FeatureEngineering.ipynb Cell 5\u001b[0m line \u001b[0;36m<cell line: 7>\u001b[0;34m()\u001b[0m\n\u001b[1;32m      <a href='vscode-notebook-cell:/Users/frederickpretlove/code/skole/ind%C3%B8k%20-%205sem/DM%26DW/HPP%20competition/HPP/frederickPlay/FeatureEngineering.ipynb#W4sZmlsZQ%3D%3D?line=4'>5</a>\u001b[0m X[\u001b[39m\"\u001b[39m\u001b[39mTimeOld\u001b[39m\u001b[39m\"\u001b[39m] \u001b[39m=\u001b[39m X[\u001b[39m'\u001b[39m\u001b[39mYrSold\u001b[39m\u001b[39m'\u001b[39m] \u001b[39m+\u001b[39m X[\u001b[39m\"\u001b[39m\u001b[39mMoSold\u001b[39m\u001b[39m\"\u001b[39m]\u001b[39m/\u001b[39m\u001b[39m12\u001b[39m\n\u001b[1;32m      <a href='vscode-notebook-cell:/Users/frederickpretlove/code/skole/ind%C3%B8k%20-%205sem/DM%26DW/HPP%20competition/HPP/frederickPlay/FeatureEngineering.ipynb#W4sZmlsZQ%3D%3D?line=5'>6</a>\u001b[0m \u001b[39m#TODO: compute the total square feet in the house\u001b[39;00m\n\u001b[0;32m----> <a href='vscode-notebook-cell:/Users/frederickpretlove/code/skole/ind%C3%B8k%20-%205sem/DM%26DW/HPP%20competition/HPP/frederickPlay/FeatureEngineering.ipynb#W4sZmlsZQ%3D%3D?line=6'>7</a>\u001b[0m X[\u001b[39m'\u001b[39m\u001b[39mTotalSF\u001b[39m\u001b[39m'\u001b[39m] \u001b[39m=\u001b[39m X[\u001b[39m'\u001b[39;49m\u001b[39mTotalBsmtSF\u001b[39;49m\u001b[39m'\u001b[39;49m]\u001b[39m+\u001b[39;49m [\u001b[39m'\u001b[39;49m\u001b[39mGarageArea\u001b[39;49m\u001b[39m'\u001b[39;49m]\n\u001b[1;32m      <a href='vscode-notebook-cell:/Users/frederickpretlove/code/skole/ind%C3%B8k%20-%205sem/DM%26DW/HPP%20competition/HPP/frederickPlay/FeatureEngineering.ipynb#W4sZmlsZQ%3D%3D?line=7'>8</a>\u001b[0m \u001b[39m#TODO: compute total square feet in total property\u001b[39;00m\n\u001b[1;32m      <a href='vscode-notebook-cell:/Users/frederickpretlove/code/skole/ind%C3%B8k%20-%205sem/DM%26DW/HPP%20competition/HPP/frederickPlay/FeatureEngineering.ipynb#W4sZmlsZQ%3D%3D?line=8'>9</a>\u001b[0m \n\u001b[1;32m     <a href='vscode-notebook-cell:/Users/frederickpretlove/code/skole/ind%C3%B8k%20-%205sem/DM%26DW/HPP%20competition/HPP/frederickPlay/FeatureEngineering.ipynb#W4sZmlsZQ%3D%3D?line=9'>10</a>\u001b[0m \u001b[39m#TODO: compute total number of rooms in house\u001b[39;00m\n\u001b[1;32m     <a href='vscode-notebook-cell:/Users/frederickpretlove/code/skole/ind%C3%B8k%20-%205sem/DM%26DW/HPP%20competition/HPP/frederickPlay/FeatureEngineering.ipynb#W4sZmlsZQ%3D%3D?line=10'>11</a>\u001b[0m \n\u001b[1;32m     <a href='vscode-notebook-cell:/Users/frederickpretlove/code/skole/ind%C3%B8k%20-%205sem/DM%26DW/HPP%20competition/HPP/frederickPlay/FeatureEngineering.ipynb#W4sZmlsZQ%3D%3D?line=11'>12</a>\u001b[0m \u001b[39m# Train and score model on dataset with additional ratio features\u001b[39;00m\n\u001b[1;32m     <a href='vscode-notebook-cell:/Users/frederickpretlove/code/skole/ind%C3%B8k%20-%205sem/DM%26DW/HPP%20competition/HPP/frederickPlay/FeatureEngineering.ipynb#W4sZmlsZQ%3D%3D?line=12'>13</a>\u001b[0m model \u001b[39m=\u001b[39m RandomForestRegressor(criterion\u001b[39m=\u001b[39m\u001b[39m\"\u001b[39m\u001b[39mabsolute_error\u001b[39m\u001b[39m\"\u001b[39m, random_state\u001b[39m=\u001b[39m\u001b[39m0\u001b[39m)\n",
      "File \u001b[0;32m~/opt/anaconda3/lib/python3.9/site-packages/pandas/core/ops/common.py:70\u001b[0m, in \u001b[0;36m_unpack_zerodim_and_defer.<locals>.new_method\u001b[0;34m(self, other)\u001b[0m\n\u001b[1;32m     66\u001b[0m             \u001b[39mreturn\u001b[39;00m \u001b[39mNotImplemented\u001b[39m\n\u001b[1;32m     68\u001b[0m other \u001b[39m=\u001b[39m item_from_zerodim(other)\n\u001b[0;32m---> 70\u001b[0m \u001b[39mreturn\u001b[39;00m method(\u001b[39mself\u001b[39;49m, other)\n",
      "File \u001b[0;32m~/opt/anaconda3/lib/python3.9/site-packages/pandas/core/arraylike.py:100\u001b[0m, in \u001b[0;36mOpsMixin.__add__\u001b[0;34m(self, other)\u001b[0m\n\u001b[1;32m     98\u001b[0m \u001b[39m@unpack_zerodim_and_defer\u001b[39m(\u001b[39m\"\u001b[39m\u001b[39m__add__\u001b[39m\u001b[39m\"\u001b[39m)\n\u001b[1;32m     99\u001b[0m \u001b[39mdef\u001b[39;00m \u001b[39m__add__\u001b[39m(\u001b[39mself\u001b[39m, other):\n\u001b[0;32m--> 100\u001b[0m     \u001b[39mreturn\u001b[39;00m \u001b[39mself\u001b[39;49m\u001b[39m.\u001b[39;49m_arith_method(other, operator\u001b[39m.\u001b[39;49madd)\n",
      "File \u001b[0;32m~/opt/anaconda3/lib/python3.9/site-packages/pandas/core/series.py:5639\u001b[0m, in \u001b[0;36mSeries._arith_method\u001b[0;34m(self, other, op)\u001b[0m\n\u001b[1;32m   5637\u001b[0m \u001b[39mdef\u001b[39;00m \u001b[39m_arith_method\u001b[39m(\u001b[39mself\u001b[39m, other, op):\n\u001b[1;32m   5638\u001b[0m     \u001b[39mself\u001b[39m, other \u001b[39m=\u001b[39m ops\u001b[39m.\u001b[39malign_method_SERIES(\u001b[39mself\u001b[39m, other)\n\u001b[0;32m-> 5639\u001b[0m     \u001b[39mreturn\u001b[39;00m base\u001b[39m.\u001b[39;49mIndexOpsMixin\u001b[39m.\u001b[39;49m_arith_method(\u001b[39mself\u001b[39;49m, other, op)\n",
      "File \u001b[0;32m~/opt/anaconda3/lib/python3.9/site-packages/pandas/core/base.py:1295\u001b[0m, in \u001b[0;36mIndexOpsMixin._arith_method\u001b[0;34m(self, other, op)\u001b[0m\n\u001b[1;32m   1292\u001b[0m rvalues \u001b[39m=\u001b[39m ensure_wrapped_if_datetimelike(rvalues)\n\u001b[1;32m   1294\u001b[0m \u001b[39mwith\u001b[39;00m np\u001b[39m.\u001b[39merrstate(\u001b[39mall\u001b[39m\u001b[39m=\u001b[39m\u001b[39m\"\u001b[39m\u001b[39mignore\u001b[39m\u001b[39m\"\u001b[39m):\n\u001b[0;32m-> 1295\u001b[0m     result \u001b[39m=\u001b[39m ops\u001b[39m.\u001b[39;49marithmetic_op(lvalues, rvalues, op)\n\u001b[1;32m   1297\u001b[0m \u001b[39mreturn\u001b[39;00m \u001b[39mself\u001b[39m\u001b[39m.\u001b[39m_construct_result(result, name\u001b[39m=\u001b[39mres_name)\n",
      "File \u001b[0;32m~/opt/anaconda3/lib/python3.9/site-packages/pandas/core/ops/array_ops.py:222\u001b[0m, in \u001b[0;36marithmetic_op\u001b[0;34m(left, right, op)\u001b[0m\n\u001b[1;32m    217\u001b[0m \u001b[39melse\u001b[39;00m:\n\u001b[1;32m    218\u001b[0m     \u001b[39m# TODO we should handle EAs consistently and move this check before the if/else\u001b[39;00m\n\u001b[1;32m    219\u001b[0m     \u001b[39m# (https://github.com/pandas-dev/pandas/issues/41165)\u001b[39;00m\n\u001b[1;32m    220\u001b[0m     _bool_arith_check(op, left, right)\n\u001b[0;32m--> 222\u001b[0m     res_values \u001b[39m=\u001b[39m _na_arithmetic_op(left, right, op)\n\u001b[1;32m    224\u001b[0m \u001b[39mreturn\u001b[39;00m res_values\n",
      "File \u001b[0;32m~/opt/anaconda3/lib/python3.9/site-packages/pandas/core/ops/array_ops.py:163\u001b[0m, in \u001b[0;36m_na_arithmetic_op\u001b[0;34m(left, right, op, is_cmp)\u001b[0m\n\u001b[1;32m    160\u001b[0m     func \u001b[39m=\u001b[39m partial(expressions\u001b[39m.\u001b[39mevaluate, op)\n\u001b[1;32m    162\u001b[0m \u001b[39mtry\u001b[39;00m:\n\u001b[0;32m--> 163\u001b[0m     result \u001b[39m=\u001b[39m func(left, right)\n\u001b[1;32m    164\u001b[0m \u001b[39mexcept\u001b[39;00m \u001b[39mTypeError\u001b[39;00m:\n\u001b[1;32m    165\u001b[0m     \u001b[39mif\u001b[39;00m \u001b[39mnot\u001b[39;00m is_cmp \u001b[39mand\u001b[39;00m (is_object_dtype(left\u001b[39m.\u001b[39mdtype) \u001b[39mor\u001b[39;00m is_object_dtype(right)):\n\u001b[1;32m    166\u001b[0m         \u001b[39m# For object dtype, fallback to a masked operation (only operating\u001b[39;00m\n\u001b[1;32m    167\u001b[0m         \u001b[39m#  on the non-missing values)\u001b[39;00m\n\u001b[1;32m    168\u001b[0m         \u001b[39m# Don't do this for comparisons, as that will handle complex numbers\u001b[39;00m\n\u001b[1;32m    169\u001b[0m         \u001b[39m#  incorrectly, see GH#32047\u001b[39;00m\n",
      "File \u001b[0;32m~/opt/anaconda3/lib/python3.9/site-packages/pandas/core/computation/expressions.py:239\u001b[0m, in \u001b[0;36mevaluate\u001b[0;34m(op, a, b, use_numexpr)\u001b[0m\n\u001b[1;32m    236\u001b[0m \u001b[39mif\u001b[39;00m op_str \u001b[39mis\u001b[39;00m \u001b[39mnot\u001b[39;00m \u001b[39mNone\u001b[39;00m:\n\u001b[1;32m    237\u001b[0m     \u001b[39mif\u001b[39;00m use_numexpr:\n\u001b[1;32m    238\u001b[0m         \u001b[39m# error: \"None\" not callable\u001b[39;00m\n\u001b[0;32m--> 239\u001b[0m         \u001b[39mreturn\u001b[39;00m _evaluate(op, op_str, a, b)  \u001b[39m# type: ignore[misc]\u001b[39;00m\n\u001b[1;32m    240\u001b[0m \u001b[39mreturn\u001b[39;00m _evaluate_standard(op, op_str, a, b)\n",
      "File \u001b[0;32m~/opt/anaconda3/lib/python3.9/site-packages/pandas/core/computation/expressions.py:128\u001b[0m, in \u001b[0;36m_evaluate_numexpr\u001b[0;34m(op, op_str, a, b)\u001b[0m\n\u001b[1;32m    125\u001b[0m     _store_test_result(result \u001b[39mis\u001b[39;00m \u001b[39mnot\u001b[39;00m \u001b[39mNone\u001b[39;00m)\n\u001b[1;32m    127\u001b[0m \u001b[39mif\u001b[39;00m result \u001b[39mis\u001b[39;00m \u001b[39mNone\u001b[39;00m:\n\u001b[0;32m--> 128\u001b[0m     result \u001b[39m=\u001b[39m _evaluate_standard(op, op_str, a, b)\n\u001b[1;32m    130\u001b[0m \u001b[39mreturn\u001b[39;00m result\n",
      "File \u001b[0;32m~/opt/anaconda3/lib/python3.9/site-packages/pandas/core/computation/expressions.py:69\u001b[0m, in \u001b[0;36m_evaluate_standard\u001b[0;34m(op, op_str, a, b)\u001b[0m\n\u001b[1;32m     67\u001b[0m \u001b[39mif\u001b[39;00m _TEST_MODE:\n\u001b[1;32m     68\u001b[0m     _store_test_result(\u001b[39mFalse\u001b[39;00m)\n\u001b[0;32m---> 69\u001b[0m \u001b[39mreturn\u001b[39;00m op(a, b)\n",
      "\u001b[0;31mUFuncTypeError\u001b[0m: ufunc 'add' did not contain a loop with signature matching types (dtype('int64'), dtype('<U10')) -> None"
     ]
    }
   ],
   "source": [
    "X = HPP_data.copy()\n",
    "y = X.pop(\"SalePrice\")\n",
    "\n",
    "# Create synthetic features\n",
    "X[\"TimeOld\"] = X['YrSold'] + X[\"MoSold\"]/12\n",
    "#TODO: compute the total square feet in the house\n",
    "X['TotalSF'] = X['TotalBsmtSF']+ ['GarageArea']\n",
    "#TODO: compute total square feet in total property\n",
    "\n",
    "#TODO: compute total number of rooms in house\n",
    "\n",
    "# Train and score model on dataset with additional ratio features\n",
    "model = RandomForestRegressor(criterion=\"absolute_error\", random_state=0)\n",
    "score = cross_val_score(\n",
    "    model, X, y, cv=5, scoring=\"neg_mean_absolute_error\"\n",
    ")\n",
    "score = -1 * score.mean()\n",
    "\n",
    "print(f\"MAE Score with Ratio Features: {score:.4}\")"
   ]
  }
 ],
 "metadata": {
  "kernelspec": {
   "display_name": "base",
   "language": "python",
   "name": "python3"
  },
  "language_info": {
   "codemirror_mode": {
    "name": "ipython",
    "version": 3
   },
   "file_extension": ".py",
   "mimetype": "text/x-python",
   "name": "python",
   "nbconvert_exporter": "python",
   "pygments_lexer": "ipython3",
   "version": "3.9.12"
  }
 },
 "nbformat": 4,
 "nbformat_minor": 2
}
