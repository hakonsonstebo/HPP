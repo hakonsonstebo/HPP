{
 "cells": [
  {
   "cell_type": "code",
   "execution_count": null,
   "metadata": {},
   "outputs": [],
   "source": [
    "# modules we'll use\n",
    "import pandas as pd\n",
    "import numpy as np\n",
    "import random\n",
    "from sklearn.ensemble import RandomForestRegressor\n",
    "from sklearn.model_selection import cross_val_score\n",
    "from sklearn.preprocessing import LabelEncoder\n",
    "\n",
    "# read in all our data\n",
    "HPP_data = pd.read_csv(\"../train.csv\")\n",
    "\n",
    "# set seed for reproducibility\n",
    "np.random.seed(0)"
   ]
  },
  {
   "cell_type": "code",
   "execution_count": null,
   "metadata": {},
   "outputs": [],
   "source": [
    "#Impute values which are missing\n",
    "HPP_data['LotFrontage'] = HPP_data['LotFrontage'].fillna('0')\n",
    "HPP_data['Alley'] = HPP_data['Alley'].fillna('NoAlley')\n",
    "HPP_data['BsmtQual'] = HPP_data['BsmtQual'].fillna('NoBasement')\n",
    "HPP_data['BsmtCond'] = HPP_data['BsmtCond'].fillna('NoBasement')\n",
    "HPP_data['BsmtExposure'] = HPP_data['BsmtExposure'].fillna('NoBasement')\n",
    "HPP_data['BsmtFinType1'] = HPP_data['BsmtFinType1'].fillna('NoBasement')\n",
    "HPP_data['BsmtFinType2'] = HPP_data['BsmtFinType2'].fillna('NoBasement')\n",
    "HPP_data['FireplaceQu'] = HPP_data['FireplaceQu'].fillna('NoFireplace')\n",
    "HPP_data['GarageType'] = HPP_data['GarageType'].fillna('NoGarage')\n",
    "HPP_data['GarageYrBlt'] = HPP_data['GarageYrBlt'].fillna(-1)\n",
    "HPP_data['GarageFinish'] = HPP_data['GarageFinish'].fillna('NoGarage')\n",
    "HPP_data['GarageQual'] = HPP_data['GarageQual'].fillna('NoGarage')\n",
    "HPP_data['GarageCond'] = HPP_data['GarageCond'].fillna('NoGarage')\n",
    "HPP_data['PoolQC'] = HPP_data['PoolQC'].fillna('NoPool')\n",
    "HPP_data['Fence'] = HPP_data['Fence'].fillna('NoFence')\n",
    "HPP_data['MiscFeature'] = HPP_data['MiscFeature'].fillna('NoMiscFeature')\n",
    "\n",
    "HPP_data['MasVnrArea'] = HPP_data['MasVnrArea'].fillna(HPP_data['MasVnrArea'].mean())\n",
    "HPP_data['MasVnrType'] = HPP_data['MasVnrType'].fillna(HPP_data['MasVnrType'].mode()[random.randint(0, len(pd.Series(HPP_data['MasVnrType']).mode()) - 1)])\n",
    "HPP_data['Electrical'] = HPP_data['Electrical'].fillna(HPP_data['Electrical'].mode()[random.randint(0, len(pd.Series(HPP_data['Electrical']).mode()) - 1)])\n",
    "\n"
   ]
  },
  {
   "cell_type": "code",
   "execution_count": 14,
   "metadata": {},
   "outputs": [],
   "source": [
    "# Identify categorical columns\n",
    "categorical_columns = HPP_data.select_dtypes(include=['object']).columns\n",
    "\n",
    "# Initialize LabelEncoder\n",
    "label_encoder = LabelEncoder()\n",
    "\n",
    "# Iterate through the categorical columns\n",
    "for column in categorical_columns:\n",
    "    # Convert all values to strings and then fit and transform the LabelEncoder\n",
    "    HPP_data[column] = label_encoder.fit_transform(HPP_data[column].astype(str))"
   ]
  },
  {
   "cell_type": "code",
   "execution_count": 15,
   "metadata": {},
   "outputs": [
    {
     "name": "stdout",
     "output_type": "stream",
     "text": [
      "MAE Baseline Score: 1.776e+04\n"
     ]
    }
   ],
   "source": [
    "#baseline score for features\n",
    "X = HPP_data.copy()\n",
    "y = X.pop(\"SalePrice\")\n",
    "\n",
    "# Train and score baseline model\n",
    "baseline = RandomForestRegressor(criterion=\"absolute_error\", random_state=0)\n",
    "baseline_score = cross_val_score(\n",
    "    baseline, X, y, cv=5, scoring=\"neg_mean_absolute_error\"\n",
    ")\n",
    "baseline_score = -1 * baseline_score.mean()\n",
    "\n",
    "print(f\"MAE Baseline Score: {baseline_score:.4}\")"
   ]
  },
  {
   "cell_type": "code",
   "execution_count": 17,
   "metadata": {},
   "outputs": [
    {
     "name": "stdout",
     "output_type": "stream",
     "text": [
      "MAE Score with Ratio Features: nan\n"
     ]
    },
    {
     "name": "stderr",
     "output_type": "stream",
     "text": [
      "/Users/frederickpretlove/opt/anaconda3/lib/python3.9/site-packages/sklearn/model_selection/_validation.py:372: FitFailedWarning: \n",
      "5 fits failed out of a total of 5.\n",
      "The score on these train-test partitions for these parameters will be set to nan.\n",
      "If these failures are not expected, you can try to debug them by setting error_score='raise'.\n",
      "\n",
      "Below are more details about the failures:\n",
      "--------------------------------------------------------------------------------\n",
      "5 fits failed with the following error:\n",
      "Traceback (most recent call last):\n",
      "  File \"/Users/frederickpretlove/opt/anaconda3/lib/python3.9/site-packages/sklearn/model_selection/_validation.py\", line 680, in _fit_and_score\n",
      "    estimator.fit(X_train, y_train, **fit_params)\n",
      "  File \"/Users/frederickpretlove/opt/anaconda3/lib/python3.9/site-packages/sklearn/ensemble/_forest.py\", line 327, in fit\n",
      "    X, y = self._validate_data(\n",
      "  File \"/Users/frederickpretlove/opt/anaconda3/lib/python3.9/site-packages/sklearn/base.py\", line 581, in _validate_data\n",
      "    X, y = check_X_y(X, y, **check_params)\n",
      "  File \"/Users/frederickpretlove/opt/anaconda3/lib/python3.9/site-packages/sklearn/utils/validation.py\", line 964, in check_X_y\n",
      "    X = check_array(\n",
      "  File \"/Users/frederickpretlove/opt/anaconda3/lib/python3.9/site-packages/sklearn/utils/validation.py\", line 800, in check_array\n",
      "    _assert_all_finite(array, allow_nan=force_all_finite == \"allow-nan\")\n",
      "  File \"/Users/frederickpretlove/opt/anaconda3/lib/python3.9/site-packages/sklearn/utils/validation.py\", line 114, in _assert_all_finite\n",
      "    raise ValueError(\n",
      "ValueError: Input contains NaN, infinity or a value too large for dtype('float32').\n",
      "\n",
      "  warnings.warn(some_fits_failed_message, FitFailedWarning)\n"
     ]
    }
   ],
   "source": [
    "X = HPP_data.copy()\n",
    "y = X.pop(\"SalePrice\")\n",
    "\n",
    "# Create synthetic features\n",
    "X[\"AlleyPoolRatio\"] = X['Alley'] / X[\"PoolQC\"]\n",
    "\n",
    "# Train and score model on dataset with additional ratio features\n",
    "model = RandomForestRegressor(criterion=\"absolute_error\", random_state=0)\n",
    "score = cross_val_score(\n",
    "    model, X, y, cv=5, scoring=\"neg_mean_absolute_error\"\n",
    ")\n",
    "score = -1 * score.mean()\n",
    "\n",
    "print(f\"MAE Score with Ratio Features: {score:.4}\")"
   ]
  }
 ],
 "metadata": {
  "kernelspec": {
   "display_name": "base",
   "language": "python",
   "name": "python3"
  },
  "language_info": {
   "codemirror_mode": {
    "name": "ipython",
    "version": 3
   },
   "file_extension": ".py",
   "mimetype": "text/x-python",
   "name": "python",
   "nbconvert_exporter": "python",
   "pygments_lexer": "ipython3",
   "version": "3.9.12"
  }
 },
 "nbformat": 4,
 "nbformat_minor": 2
}
